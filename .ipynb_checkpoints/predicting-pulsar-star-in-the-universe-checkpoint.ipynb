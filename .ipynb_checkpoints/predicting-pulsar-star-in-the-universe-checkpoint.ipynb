{
 "cells": [
  {
   "cell_type": "markdown",
   "metadata": {
    "_cell_guid": "4232bbf6-3780-4886-a870-e42a27bb91f1",
    "_uuid": "c4d6d42077f9e56ef27260c03bc520126bd28d6f"
   },
   "source": [
    "# PREDICTING A PULSAR STAR"
   ]
  },
  {
   "cell_type": "markdown",
   "metadata": {
    "_cell_guid": "1d17c6a6-6cb3-4835-82a7-48ca832a5e7e",
    "_uuid": "e663848a50f6cef4e5ebc84ea330f081d2e68119"
   },
   "source": [
    "HTRU2 is a data set which describes a sample of pulsar candidates collected during the High Time Resolution Universe Survey . \n",
    "\n",
    "Pulsars are a rare type of Neutron star that produce radio emission detectable here on Earth. They are of considerable scientific interest as probes of space-time, the inter-stellar medium, and states of matter . \n",
    "\n",
    "As pulsars rotate, their emission beam sweeps across the sky, and when this crosses our line of sight, produces a detectable pattern of broadband radio emission. As pulsars \n",
    "rotate rapidly, this pattern repeats periodically. Thus pulsar search involves looking for periodic radio signals with large radio telescopes. \n",
    "\n",
    "Each pulsar produces a slightly different emission pattern, which varies slightly with each rotation . Thus a potential signal detection known as a 'candidate', is averaged over many rotations of the pulsar, as determined by the length of an observation. In the absence of additional info, each candidate could potentially describe a real pulsar. However in practice almost all detections are caused by radio frequency interference (RFI) and noise, making legitimate signals hard to find. \n",
    "\n",
    "Machine learning tools are now being used to automatically label pulsar candidates to facilitate rapid analysis. Classification systems in particular are being widely adopted, \n",
    "which treat the candidate data sets as binary classification problems. Here the legitimate pulsar examples are a minority positive class, and spurious examples the majority negative class.\n",
    "\n",
    "The data set shared here contains 16,259 spurious examples caused by RFI/noise, and 1,639 real pulsar examples. These examples have all been checked by human annotators. \n",
    "\n",
    "Each row lists the variables first, and the class label is the final entry. The class labels used are 0 (negative) and 1 (positive). "
   ]
  },
  {
   "cell_type": "code",
   "execution_count": null,
   "metadata": {
    "_kg_hide-input": true,
    "_uuid": "f47c27975ac6f81da106cafc2335b8d9fb43fd95",
    "collapsed": true
   },
   "outputs": [],
   "source": [
    "import numpy as np\n",
    "import pandas as pd\n",
    "import matplotlib.pyplot as plt\n",
    "import seaborn as sns\n",
    "import warnings\n",
    "import itertools\n",
    "warnings.filterwarnings(\"ignore\")\n",
    "%matplotlib inline\n",
    "from PIL import Image\n",
    "\n",
    "img = np.array(Image.open(\"../input/picture/thumb-1920-510805.jpg\"))\n",
    "plt.figure(figsize=(15,12))\n",
    "plt.imshow(img)\n",
    "plt.axis(\"off\")\n",
    "plt.show()"
   ]
  },
  {
   "cell_type": "markdown",
   "metadata": {
    "_cell_guid": "ca281f09-bd61-4e2b-8e5c-590f3b07bc1e",
    "_uuid": "5048d31a2ef940464f2e0c41095bb44691ffb0ee"
   },
   "source": [
    "# Attribute Information:"
   ]
  },
  {
   "cell_type": "markdown",
   "metadata": {
    "_cell_guid": "47e9a55f-78c8-480b-a8c3-cfe2ab679149",
    "_uuid": "8d40885cb18ea9bc2836c1f22736fd070bcf14f4"
   },
   "source": [
    "Each candidate is described by 8 continuous variables, and a single class variable. The first four are simple statistics obtained from the integrated pulse profile (folded profile). This is an array of continuous variables that describe a longitude-resolved version of the signal that has been averaged in both time and frequency . The remaining four variables are similarly obtained from the DM-SNR curve . These are summarised below: \n",
    "\n",
    "1. Mean of the integrated profile. \n",
    "2. Standard deviation of the integrated profile. \n",
    "3. Excess kurtosis of the integrated profile. \n",
    "4. Skewness of the integrated profile. \n",
    "5. Mean of the DM-SNR curve. \n",
    "6. Standard deviation of the DM-SNR curve. \n",
    "7. Excess kurtosis of the DM-SNR curve. \n",
    "8. Skewness of the DM-SNR curve. \n",
    "9. Class \n",
    "\n",
    "HTRU 2 Summary \n",
    "17,898 total examples. \n",
    "1,639 positive examples. \n",
    "16,259 negative examples.\n",
    "\n"
   ]
  },
  {
   "cell_type": "markdown",
   "metadata": {
    "_uuid": "2fb74ba2bb12ca4f88ec335e0e6527f70af66dad"
   },
   "source": [
    "# Data"
   ]
  },
  {
   "cell_type": "code",
   "execution_count": null,
   "metadata": {
    "_cell_guid": "75b00a45-d1be-473a-bc85-e2813dec5eda",
    "_kg_hide-input": true,
    "_uuid": "fb10ea179cd4e738a27daf53be3ad453a4e23b69",
    "collapsed": true
   },
   "outputs": [],
   "source": [
    "data = pd.read_csv(r\"../input/predicting-a-pulsar-star/pulsar_stars.csv\")\n",
    "data.head()"
   ]
  },
  {
   "cell_type": "markdown",
   "metadata": {
    "_uuid": "8f5406b1ccea27eb74868004b34fcf8bfb38c2a3"
   },
   "source": [
    "# Data dimensions"
   ]
  },
  {
   "cell_type": "code",
   "execution_count": null,
   "metadata": {
    "_cell_guid": "e3c92af8-6274-4c39-97ee-f6c07f94a88a",
    "_kg_hide-input": true,
    "_uuid": "d20c0b1f541be599c54e72e0996eab4e43f656d1",
    "collapsed": true
   },
   "outputs": [],
   "source": [
    "print (\"Number of rows    :\",data.shape[0])\n",
    "print (\"Number of columns :\",data.shape[1])"
   ]
  },
  {
   "cell_type": "markdown",
   "metadata": {
    "_uuid": "1b727967d2d3e876a549ec38c9d4adb912130dad"
   },
   "source": [
    "# Data Information"
   ]
  },
  {
   "cell_type": "code",
   "execution_count": null,
   "metadata": {
    "_kg_hide-input": true,
    "_uuid": "855a750a779c5042b3cebc5e0abd31ceeb467b76",
    "collapsed": true
   },
   "outputs": [],
   "source": [
    "print (\"data info  :\",data.info())"
   ]
  },
  {
   "cell_type": "markdown",
   "metadata": {
    "_uuid": "e5a3fe33d5aa54b7c2253ae205972200d1bca120"
   },
   "source": [
    "# Missing values"
   ]
  },
  {
   "cell_type": "code",
   "execution_count": null,
   "metadata": {
    "_kg_hide-input": true,
    "_uuid": "eca02b03bd8e26ffe4fba315a07cfde9b9a6b04e",
    "collapsed": true
   },
   "outputs": [],
   "source": [
    "print (data.isnull().sum())"
   ]
  },
  {
   "cell_type": "code",
   "execution_count": null,
   "metadata": {
    "_cell_guid": "75d4af31-f322-46fa-9b46-b8a862d9a2c1",
    "_kg_hide-input": true,
    "_uuid": "99866e869a37ec469a03921bb93d279c80dee661",
    "collapsed": true
   },
   "outputs": [],
   "source": [
    "#Renaming columns\n",
    "data = data.rename(columns={' Mean of the integrated profile':\"mean_profile\",\n",
    "       ' Standard deviation of the integrated profile':\"std_profile\",\n",
    "       ' Excess kurtosis of the integrated profile':\"kurtosis_profile\",\n",
    "       ' Skewness of the integrated profile':\"skewness_profile\", \n",
    "        ' Mean of the DM-SNR curve':\"mean_dmsnr_curve\",\n",
    "       ' Standard deviation of the DM-SNR curve':\"std_dmsnr_curve\",\n",
    "       ' Excess kurtosis of the DM-SNR curve':\"kurtosis_dmsnr_curve\",\n",
    "       ' Skewness of the DM-SNR curve':\"skewness_dmsnr_curve\",\n",
    "       })"
   ]
  },
  {
   "cell_type": "markdown",
   "metadata": {
    "_uuid": "749f255962b7c508345ad306a0794921e10e4fdc"
   },
   "source": [
    "\n",
    "# Data summary"
   ]
  },
  {
   "cell_type": "code",
   "execution_count": null,
   "metadata": {
    "_cell_guid": "24301b36-2ea9-4270-aed3-0800a8963e77",
    "_kg_hide-input": true,
    "_uuid": "15e5bc2a6c3e1fe21e333b6267a07569f66b905e",
    "collapsed": true
   },
   "outputs": [],
   "source": [
    "plt.figure(figsize=(12,8))\n",
    "sns.heatmap(data.describe()[1:].transpose(),\n",
    "            annot=True,linecolor=\"w\",\n",
    "            linewidth=2,cmap=sns.color_palette(\"Set2\"))\n",
    "plt.title(\"Data summary\")\n",
    "plt.show()"
   ]
  },
  {
   "cell_type": "markdown",
   "metadata": {
    "_cell_guid": "b20e07b6-2206-4146-8d45-e6872de5ec91",
    "_uuid": "8f7965909ca4d00d6cb6e45810f54cb0068ffdb1"
   },
   "source": [
    "# CORRELATION BETWEEN VARIABLES"
   ]
  },
  {
   "cell_type": "code",
   "execution_count": null,
   "metadata": {
    "_cell_guid": "f928ed3b-a4d8-4396-96b9-3c723e7f34b7",
    "_kg_hide-input": true,
    "_uuid": "82da95fd1f099f1083847f61b83c99e8fb99d07f",
    "collapsed": true
   },
   "outputs": [],
   "source": [
    "correlation = data.corr()\n",
    "plt.figure(figsize=(10,8))\n",
    "sns.heatmap(correlation,annot=True,\n",
    "            cmap=sns.color_palette(\"magma\"),\n",
    "            linewidth=2,edgecolor=\"k\")\n",
    "plt.title(\"CORRELATION BETWEEN VARIABLES\")\n",
    "plt.show()"
   ]
  },
  {
   "cell_type": "markdown",
   "metadata": {
    "_cell_guid": "ec69ef08-bb27-4f2c-a672-ddb123077925",
    "_uuid": "39d79c490b47f16f2682e824c5013c5c9682b8b2"
   },
   "source": [
    "# Proportion of target variable in dataset"
   ]
  },
  {
   "cell_type": "code",
   "execution_count": null,
   "metadata": {
    "_cell_guid": "8bbc27ae-cace-4ded-9d3e-1ac3a642b011",
    "_kg_hide-input": true,
    "_uuid": "655054362c44ecc2a0d6a47e91858347862961aa",
    "collapsed": true
   },
   "outputs": [],
   "source": [
    "plt.figure(figsize=(12,6))\n",
    "plt.subplot(121)\n",
    "ax = sns.countplot(y = data[\"target_class\"],\n",
    "                   palette=[\"r\",\"g\"],\n",
    "                   linewidth=1,\n",
    "                   edgecolor=\"k\"*2)\n",
    "for i,j in enumerate(data[\"target_class\"].value_counts().values):\n",
    "    ax.text(.7,i,j,weight = \"bold\",fontsize = 27)\n",
    "plt.title(\"Count for target variable in datset\")\n",
    "\n",
    "\n",
    "plt.subplot(122)\n",
    "plt.pie(data[\"target_class\"].value_counts().values,\n",
    "        labels=[\"not pulsar stars\",\"pulsar stars\"],\n",
    "        autopct=\"%1.0f%%\",wedgeprops={\"linewidth\":2,\"edgecolor\":\"white\"})\n",
    "my_circ = plt.Circle((0,0),.7,color = \"white\")\n",
    "plt.gca().add_artist(my_circ)\n",
    "plt.subplots_adjust(wspace = .2)\n",
    "plt.title(\"Proportion of target variable in dataset\")\n",
    "plt.show()"
   ]
  },
  {
   "cell_type": "markdown",
   "metadata": {
    "_cell_guid": "24d046e5-9ba1-4a07-a9fb-a18734ed1a6d",
    "_uuid": "20b20f9471cc1cab86d0250229d012a81cba2e6a"
   },
   "source": [
    "### COMPARING MEAN & STANDARD DEVIATION BETWEEN ATTRIBUTES FOR TARGET CLASSES"
   ]
  },
  {
   "cell_type": "code",
   "execution_count": null,
   "metadata": {
    "_cell_guid": "8290df62-c734-454c-ade6-0f44028d0a94",
    "_kg_hide-input": true,
    "_uuid": "3913e310f306a84cf54fee402da98ddcc931d37c",
    "collapsed": true
   },
   "outputs": [],
   "source": [
    "compare = data.groupby(\"target_class\")[['mean_profile', 'std_profile', 'kurtosis_profile', 'skewness_profile',\n",
    "                                        'mean_dmsnr_curve', 'std_dmsnr_curve', 'kurtosis_dmsnr_curve',\n",
    "                                        'skewness_dmsnr_curve']].mean().reset_index()\n",
    "\n",
    "\n",
    "compare = compare.drop(\"target_class\",axis =1)\n",
    "\n",
    "compare.plot(kind=\"bar\",width=.6,figsize=(13,6),colormap=\"Set2\")\n",
    "plt.grid(True,alpha=.3)\n",
    "plt.title(\"COMPARING MEAN OF ATTRIBUTES FOR TARGET CLASSES\")\n",
    "\n",
    "compare1 = data.groupby(\"target_class\")[['mean_profile', 'std_profile', 'kurtosis_profile', 'skewness_profile',\n",
    "                                        'mean_dmsnr_curve', 'std_dmsnr_curve', 'kurtosis_dmsnr_curve',\n",
    "                                        'skewness_dmsnr_curve']].std().reset_index()\n",
    "compare1 = compare1.drop(\"target_class\",axis=1)\n",
    "compare1.plot(kind=\"bar\",width=.6,figsize=(13,6),colormap=\"Set2\")\n",
    "plt.grid(True,alpha=.3)\n",
    "plt.title(\"COMPARING STANDARD DEVIATION OF ATTRIBUTES FOR TARGET CLASSES\")\n",
    "plt.show()"
   ]
  },
  {
   "cell_type": "markdown",
   "metadata": {
    "_cell_guid": "606b7fa8-6015-4199-a8c5-c3b2aa2b2ac9",
    "_uuid": "91f21426eedadd71e9902afb018e55512baf1fd5"
   },
   "source": [
    "### COMPARING MEAN & STANDARD DEVIATION BETWEEN ATTRIBUTES FOR TARGET CLASSES"
   ]
  },
  {
   "cell_type": "code",
   "execution_count": null,
   "metadata": {
    "_cell_guid": "a7fb6261-c018-4759-a504-c6ae87d5e0ba",
    "_kg_hide-input": true,
    "_uuid": "d7af6faf929018d3b2f0f97a94741bb06b331e09",
    "collapsed": true
   },
   "outputs": [],
   "source": [
    "compare_mean = compare.transpose().reset_index()\n",
    "compare_mean = compare_mean.rename(columns={'index':\"features\", 0:\"not_star\", 1:\"star\"})\n",
    "plt.figure(figsize=(13,14))\n",
    "plt.subplot(211)\n",
    "sns.pointplot(x= \"features\",y=\"not_star\",data=compare_mean,color=\"r\")\n",
    "sns.pointplot(x= \"features\",y=\"star\",data=compare_mean,color=\"g\")\n",
    "plt.xticks(rotation =60)\n",
    "plt.xlabel(\"\")\n",
    "plt.grid(True,alpha=.3)\n",
    "plt.title(\"COMPARING MEAN OF ATTRIBUTES FOR TARGET CLASSES\")\n",
    "\n",
    "compare_std = compare1.transpose().reset_index()\n",
    "compare_std = compare_std.rename(columns={'index':\"features\", 0:\"not_star\", 1:\"star\"})\n",
    "plt.subplot(212)\n",
    "sns.pointplot(x= \"features\",y=\"not_star\",data=compare_std,color=\"r\")\n",
    "sns.pointplot(x= \"features\",y=\"star\",data=compare_std,color=\"g\")\n",
    "plt.xticks(rotation =60)\n",
    "plt.grid(True,alpha=.3)\n",
    "plt.title(\"COMPARING STANDARD DEVIATION OF ATTRIBUTES FOR TARGET CLASSES\")\n",
    "plt.subplots_adjust(hspace =.4)\n",
    "print (\"[GREEN == STAR , RED == NOTSTAR]\")\n",
    "plt.show()\n"
   ]
  },
  {
   "cell_type": "code",
   "execution_count": null,
   "metadata": {
    "_cell_guid": "500e9162-d883-43c6-9dbb-e22c2e2f4948",
    "_kg_hide-input": true,
    "_uuid": "0639eb419ea5fa831ace6d7643da1ad752002f4f",
    "collapsed": true
   },
   "outputs": [],
   "source": [
    "compare_mean\n",
    "plt.figure(figsize=(10,10))\n",
    "plt.subplot(211)\n",
    "sns.barplot(y=\"features\",x=\"not_star\",\n",
    "            data=compare_mean,color=\"r\")\n",
    "sns.barplot(y=\"features\",x=\"star\",\n",
    "            data=compare_mean,color=\"g\")\n",
    "plt.title(\"COMPARING MEAN OF ATTRIBUTES FOR TARGET CLASSES\")\n",
    "\n",
    "plt.subplot(212)\n",
    "sns.barplot(y=\"features\",x=\"star\",\n",
    "            data=compare_std,color=\"g\")\n",
    "sns.barplot(y=\"features\",x=\"not_star\",\n",
    "            data=compare_std,color=\"r\")\n",
    "plt.title(\"COMPARING STANDARD DEVIATION OF ATTRIBUTES FOR TARGET CLASSES\")\n",
    "plt.subplots_adjust(wspace =.5)\n"
   ]
  },
  {
   "cell_type": "markdown",
   "metadata": {
    "_cell_guid": "4e9a003e-b18e-42c0-b3f9-2b1fc808643a",
    "_uuid": "4e4d779c4244e9c46a11265a75a11f5b1bee0d3f"
   },
   "source": [
    "# DISTIBUTION OF VARIABLES IN DATA SET"
   ]
  },
  {
   "cell_type": "code",
   "execution_count": null,
   "metadata": {
    "_cell_guid": "90582c76-1ad7-4e60-9a86-9f508851b52b",
    "_kg_hide-input": true,
    "_uuid": "0c4e0bea8cd4b738e17799ef652f36fc94707fdc",
    "collapsed": true
   },
   "outputs": [],
   "source": [
    "columns = ['mean_profile', 'std_profile', 'kurtosis_profile', 'skewness_profile',\n",
    "           'mean_dmsnr_curve', 'std_dmsnr_curve', 'kurtosis_dmsnr_curve',\n",
    "           'skewness_dmsnr_curve']\n",
    "length  = len(columns)\n",
    "colors  = [\"r\",\"g\",\"b\",\"m\",\"y\",\"c\",\"k\",\"orange\"] \n",
    "\n",
    "plt.figure(figsize=(13,20))\n",
    "for i,j,k in itertools.zip_longest(columns,range(length),colors):\n",
    "    plt.subplot(length/2,length/4,j+1)\n",
    "    sns.distplot(data[i],color=k)\n",
    "    plt.title(i)\n",
    "    plt.subplots_adjust(hspace = .3)\n",
    "    plt.axvline(data[i].mean(),color = \"k\",linestyle=\"dashed\",label=\"MEAN\")\n",
    "    plt.axvline(data[i].std(),color = \"b\",linestyle=\"dotted\",label=\"STANDARD DEVIATION\")\n",
    "    plt.legend(loc=\"upper right\")\n",
    "    \n",
    "print (\"***************************************\")\n",
    "print (\"DISTIBUTION OF VARIABLES IN DATA SET\")\n",
    "print (\"***************************************\")"
   ]
  },
  {
   "cell_type": "markdown",
   "metadata": {
    "_cell_guid": "35ad7b14-36f1-4ed0-9c99-c26bc6c16852",
    "_uuid": "4d65931369339f722a79ae0ffb8793c5bd997330"
   },
   "source": [
    "# PAIR PLOT BETWEEN ALL VARIABLES"
   ]
  },
  {
   "cell_type": "code",
   "execution_count": null,
   "metadata": {
    "_cell_guid": "4aa18254-b864-486a-8321-2c7d3f4ec993",
    "_kg_hide-input": true,
    "_uuid": "f98e5a4a426db4dd6cfc7ff78e20a55f0f9e021e",
    "collapsed": true
   },
   "outputs": [],
   "source": [
    "sns.pairplot(data,hue=\"target_class\")\n",
    "plt.title(\"pair plot for variables\")\n",
    "plt.show()"
   ]
  },
  {
   "cell_type": "markdown",
   "metadata": {
    "_cell_guid": "795f58f2-12b2-4ff6-800a-4e1967300de0",
    "_uuid": "3b5fa3ef1d6f65313e77c3c258003754ee9bd6f0"
   },
   "source": [
    "# Scatter plot between variable for target classes"
   ]
  },
  {
   "cell_type": "code",
   "execution_count": null,
   "metadata": {
    "_cell_guid": "1bb6606d-b48c-42cd-a693-9fa17f6e2885",
    "_kg_hide-input": true,
    "_uuid": "3bbe3d86ffb78cdd0454e170df18f206d16b22ef",
    "collapsed": true
   },
   "outputs": [],
   "source": [
    "plt.figure(figsize=(14,7))\n",
    "plt.subplot(121)\n",
    "plt.scatter(x = \"kurtosis_profile\",y = \"skewness_profile\",\n",
    "            data=data[data[\"target_class\"] == 1],alpha=.7,\n",
    "            label=\"pulsar stars\",s=30,color = \"g\",linewidths=.4,edgecolors=\"black\")\n",
    "plt.scatter(x = \"kurtosis_profile\",y = \"skewness_profile\",\n",
    "            data=data[data[\"target_class\"] == 0],alpha=.6,\n",
    "            label=\"not pulsar stars\",s=30,color =\"r\",linewidths=.4,edgecolors=\"black\")\n",
    "plt.axvline(data[data[\"target_class\"] == 1][\"kurtosis_profile\"].mean(),\n",
    "            color = \"g\",linestyle=\"dashed\",label=\"mean pulsar star\")\n",
    "plt.axvline(data[data[\"target_class\"] == 0][\"kurtosis_profile\"].mean(),\n",
    "            color = \"r\",linestyle=\"dashed\",label =\"mean non pulsar star\")\n",
    "plt.axhline(data[data[\"target_class\"] == 1][\"skewness_profile\"].mean(),\n",
    "            color = \"g\",linestyle=\"dashed\")\n",
    "plt.axhline(data[data[\"target_class\"] == 0][\"skewness_profile\"].mean(),\n",
    "            color = \"r\",linestyle=\"dashed\")\n",
    "plt.legend(loc =\"best\")\n",
    "plt.xlabel(\"kurtosis profile\")\n",
    "plt.ylabel(\"skewness profile\")\n",
    "plt.title(\"Scatter plot for skewness and kurtosis for target classes\")\n",
    "plt.subplot(122)\n",
    "plt.scatter(x = \"skewness_dmsnr_curve\",y = 'kurtosis_dmsnr_curve',\n",
    "            data=data[data[\"target_class\"] == 0],alpha=.7,\n",
    "            label=\"not pulsar stars\",s=30,color =\"r\",linewidths=.4,edgecolors=\"black\")\n",
    "plt.scatter(x = \"skewness_dmsnr_curve\",y = 'kurtosis_dmsnr_curve',\n",
    "            data=data[data[\"target_class\"] == 1],alpha=.7,\n",
    "            label=\"pulsar stars\",s=30,color = \"g\",linewidths=.4,edgecolors=\"black\")\n",
    "plt.axvline(data[data[\"target_class\"] == 1][\"kurtosis_dmsnr_curve\"].mean(),\n",
    "            color = \"g\",linestyle=\"dashed\",label =\"mean pulsar star\")\n",
    "plt.axvline(data[data[\"target_class\"] == 0][\"kurtosis_dmsnr_curve\"].mean(),\n",
    "            color = \"r\",linestyle=\"dashed\",label =\"mean non pulsar star\")\n",
    "plt.axhline(data[data[\"target_class\"] == 1][\"skewness_dmsnr_curve\"].mean(),\n",
    "            color = \"g\",linestyle=\"dashed\")\n",
    "plt.axhline(data[data[\"target_class\"] == 0][\"skewness_dmsnr_curve\"].mean(),\n",
    "            color = \"r\",linestyle=\"dashed\")\n",
    "plt.legend(loc =\"best\")\n",
    "plt.xlabel(\"skewness_dmsnr_curve\")\n",
    "plt.ylabel('kurtosis_dmsnr_curve')\n",
    "plt.title(\"||Scatter plot for skewness and kurtosis of dmsnr_curve for target classes\")\n",
    "plt.subplots_adjust(wspace =.4)"
   ]
  },
  {
   "cell_type": "markdown",
   "metadata": {
    "_cell_guid": "61bd8c58-2711-4045-995c-0b6aa3d8d598",
    "_uuid": "86781f5a665bcd3a85a2f423e95e164288309983"
   },
   "source": [
    "# BOXPLOT FOR VARIABLES IN DATA SET WITH TARGET CLASS"
   ]
  },
  {
   "cell_type": "code",
   "execution_count": null,
   "metadata": {
    "_cell_guid": "927abc86-8cb7-400f-9236-ca2d921fa118",
    "_kg_hide-input": true,
    "_uuid": "5ca3fbfea48e628a51c51d480a0f5aa5817616f2",
    "collapsed": true,
    "scrolled": true
   },
   "outputs": [],
   "source": [
    "columns = [x for x in data.columns if x not in [\"target_class\"]]\n",
    "length  = len(columns)\n",
    "plt.figure(figsize=(13,20))\n",
    "for i,j in itertools.zip_longest(columns,range(length)):\n",
    "    plt.subplot(4,2,j+1)\n",
    "    sns.lvplot(x=data[\"target_class\"],y=data[i],palette=[\"orangered\",\"lime\"])\n",
    "    plt.title(i)\n",
    "    plt.subplots_adjust(hspace=.3)\n",
    "    plt.axhline(data[i].mean(),linestyle = \"dashed\",color =\"k\",label =\"Mean value for data\")\n",
    "    plt.legend(loc=\"best\")\n",
    "    \n",
    "print (\"****************************************************\")\n",
    "print (\"BOXPLOT FOR VARIABLES IN DATA SET WITH TARGET CLASS\")\n",
    "print (\"****************************************************\")"
   ]
  },
  {
   "cell_type": "markdown",
   "metadata": {
    "_cell_guid": "dd89490f-d45b-4029-b7d5-6edad0f5b640",
    "_uuid": "8782e1f6f514a705ccec5c13a9f4cd373b542e3b"
   },
   "source": [
    "# Area plot for attributes of pulsar stars vs non pulsar stars"
   ]
  },
  {
   "cell_type": "code",
   "execution_count": null,
   "metadata": {
    "_cell_guid": "4e466a17-ad6f-4828-a825-24959ae9a4ee",
    "_kg_hide-input": true,
    "_uuid": "981c9cc051de8f417e581f582fe182252c2db2f1",
    "collapsed": true
   },
   "outputs": [],
   "source": [
    "st = data[data[\"target_class\"] == 1].reset_index()\n",
    "nst= data[data[\"target_class\"] == 0].reset_index()\n",
    "new = pd.concat([nst,st]).reset_index()\n",
    "\n",
    "plt.figure(figsize=(13,10))\n",
    "plt.stackplot(new.index,new[\"mean_profile\"],\n",
    "              alpha =.5,color=\"b\",labels=[\"mean_profile\"])\n",
    "plt.stackplot(new.index,new[\"std_profile\"],\n",
    "              alpha=.5,color=\"r\",labels=[\"std_profile\"])\n",
    "plt.stackplot(new.index,new[\"skewness_profile\"],\n",
    "              alpha=.5,color =\"g\",labels=[\"skewness_profile\"])\n",
    "plt.stackplot(new.index,new[\"kurtosis_profile\"],\n",
    "              alpha=.5,color = \"m\",labels=[\"kurtosis_profile\"])\n",
    "plt.axvline(x=16259,color = \"black\",linestyle=\"dashed\",\n",
    "            label = \"separating pulsars vs non pulsars\")\n",
    "plt.axhline(new[\"mean_profile\"].mean(),color = \"b\",\n",
    "            linestyle=\"dashed\",label = \"average mean profile\")\n",
    "plt.axhline(new[\"std_profile\"].mean(),color = \"r\",\n",
    "            linestyle=\"dashed\",label = \"average std profile\")\n",
    "plt.axhline(new[\"skewness_profile\"].mean(),color = \"g\",\n",
    "            linestyle=\"dashed\",label = \"average skewness profile\")\n",
    "plt.axhline(new[\"kurtosis_profile\"].mean(),color = \"m\",\n",
    "            linestyle=\"dashed\",label = \"average kurtosis profile\")\n",
    "plt.legend(loc=\"best\")\n",
    "plt.title(\"Area plot for attributes for pulsar stars vs non pulsar stars\")\n",
    "plt.show()"
   ]
  },
  {
   "cell_type": "markdown",
   "metadata": {
    "_cell_guid": "7511788f-1f74-4562-8786-a43f85cb8024",
    "_uuid": "06fc00bf3c118de3cf992a934d081a1b2fe0a749"
   },
   "source": [
    "# Area plot for dmsnr_curve attributes of pulsar stars vs non pulsar star"
   ]
  },
  {
   "cell_type": "code",
   "execution_count": null,
   "metadata": {
    "_cell_guid": "6404a13e-980d-49ce-ab35-1d58bd625b44",
    "_kg_hide-input": true,
    "_uuid": "afd1bc0e121c95e2da61fdff8b52384d8c4ac212",
    "collapsed": true
   },
   "outputs": [],
   "source": [
    "plt.figure(figsize=(13,10))\n",
    "plt.stackplot(new.index,new[\"mean_dmsnr_curve\"],\n",
    "              color=\"b\",alpha=.5,labels=[\"mean_dmsnr_curve\"])\n",
    "plt.stackplot(new.index,new[\"std_dmsnr_curve\"],\n",
    "              color=\"r\",alpha=.5,labels=[\"std_dmsnr_curve\"])\n",
    "plt.stackplot(new.index,new[\"skewness_dmsnr_curve\"],color=\"g\",\n",
    "              alpha=.5,labels=[\"skewness_dmsnr_curve\"])\n",
    "plt.stackplot(new.index,new[\"kurtosis_dmsnr_curve\"],color=\"m\",\n",
    "              alpha=.5,labels=[\"kurtosis_dmsnr_curve\"])\n",
    "plt.axvline(x=16259,color = \"black\",linestyle=\"dashed\",\n",
    "            label = \"separating pulsars vs non pulsars\")\n",
    "plt.axhline(new[\"mean_dmsnr_curve\"].mean(),color = \"b\",linestyle=\"dashed\",\n",
    "            label = \"average mean dmsnr_curve\")\n",
    "plt.axhline(new[\"std_dmsnr_curve\"].mean(),color = \"r\",\n",
    "            linestyle=\"dashed\",label = \"average std dmsnr_curve\")\n",
    "plt.axhline(new[\"skewness_dmsnr_curve\"].mean(),color = \"g\",\n",
    "            linestyle=\"dashed\",label = \"average skewness dmsnr_curve\")\n",
    "plt.axhline(new[\"kurtosis_dmsnr_curve\"].mean(),color = \"m\",\n",
    "            linestyle=\"dashed\",label = \"average kurtosis dmsnr_curve\")\n",
    "plt.legend(loc=\"best\")\n",
    "plt.title(\"Area plot for dmsnr_curve attributes for pulsar stars vs non pulsar stars\")\n",
    "plt.show()"
   ]
  },
  {
   "cell_type": "markdown",
   "metadata": {
    "_cell_guid": "ad8ba342-f084-4415-b34f-7c99fb92315a",
    "_uuid": "0aed65cbc65f37e49a9de28b5c311667bafa9327"
   },
   "source": [
    "## 3D PLOT FOR MEAN_PROFILE VS STD_PROFILE VS SKEWNESS_DMSNR_CURVE"
   ]
  },
  {
   "cell_type": "code",
   "execution_count": null,
   "metadata": {
    "_cell_guid": "de11c76f-19af-4fe4-bfd6-daaf970270af",
    "_kg_hide-input": true,
    "_uuid": "372ee35884b11f1ec91d6fad31b5bc920022df70",
    "collapsed": true
   },
   "outputs": [],
   "source": [
    "from mpl_toolkits.mplot3d import Axes3D\n",
    "fig = plt.figure(figsize=(13,13))\n",
    "ax  = fig.add_subplot(111,projection = \"3d\")\n",
    "\n",
    "ax.scatter(data[data[\"target_class\"] == 1][[\"mean_profile\"]],data[data[\"target_class\"] == 1][[\"std_profile\"]],data[data[\"target_class\"] == 1][[\"skewness_dmsnr_curve\"]],\n",
    "           alpha=.5,s=80,linewidth=2,edgecolor=\"k\",color=\"lime\",label=\"Pulsar star\")\n",
    "ax.scatter(data[data[\"target_class\"] == 0][[\"mean_profile\"]],data[data[\"target_class\"] == 0][[\"std_profile\"]],data[data[\"target_class\"] == 0][[\"skewness_dmsnr_curve\"]],\n",
    "           alpha=.5,s=80,linewidth=2,edgecolor=\"k\",color=\"r\",label=\" NotPulsar star\")\n",
    "\n",
    "ax.set_xlabel(\"mean_profile\",fontsize=15)\n",
    "ax.set_ylabel(\"std_profile\",fontsize=15)\n",
    "ax.set_zlabel(\"skewness_dmsnr_curve\",fontsize=15)\n",
    "plt.legend(loc=\"best\")\n",
    "fig.set_facecolor(\"w\")\n",
    "plt.title(\"3D PLOT FOR MEAN_PROFILE VS STD_PROFILE VS SKEWNESS_DMSNR_CURVE\",fontsize=10)\n",
    "plt.show()"
   ]
  },
  {
   "cell_type": "markdown",
   "metadata": {
    "_cell_guid": "5ac5a1d5-544e-4c50-b81b-847bf14364fa",
    "_uuid": "2400d81762ffebd080d62121c93b1757e4347ea3"
   },
   "source": [
    "# DENSITY PLOT BETWEEN MEAN_PROFILE & STD_PROFILE"
   ]
  },
  {
   "cell_type": "code",
   "execution_count": null,
   "metadata": {
    "_cell_guid": "8d87f509-627c-47f9-a198-40e70dd724bc",
    "_kg_hide-input": true,
    "_uuid": "18cf67f08962b8d98ee9ae3f17d0de9bce6cfc1d",
    "collapsed": true
   },
   "outputs": [],
   "source": [
    "sns.jointplot(data[\"mean_profile\"],data[\"std_profile\"],kind=\"kde\",scale=10)\n",
    "plt.show()"
   ]
  },
  {
   "cell_type": "markdown",
   "metadata": {
    "_cell_guid": "49e94411-1a3b-4037-845b-34e7bafcbe2b",
    "_uuid": "a413f2fa616c12ac300f179686d39e08e02a9b79"
   },
   "source": [
    "# Bubble plot between mean,std for skewness and kurtosis"
   ]
  },
  {
   "cell_type": "code",
   "execution_count": null,
   "metadata": {
    "_cell_guid": "a4bf0ed4-c222-4d0c-b947-019c404c752a",
    "_kg_hide-input": true,
    "_uuid": "0a03f7be5c936479946837856a3f1b2a36ed90af",
    "collapsed": true
   },
   "outputs": [],
   "source": [
    "plt.figure(figsize=(13,7))\n",
    "plt.subplot(121)\n",
    "plt.scatter(st[\"mean_profile\"],st[\"std_profile\"],alpha=.5,\n",
    "            s=st[\"skewness_profile\"]*3,linewidths=1,color=\"g\",label=\"pulsar_star\")\n",
    "plt.scatter(nst[\"mean_profile\"],nst[\"std_profile\"],alpha=.5,\n",
    "            s=nst[\"skewness_profile\"]*3,linewidths=1,color=\"r\",label=\"pulsar_star\")\n",
    "plt.legend(loc=\"best\")\n",
    "plt.xlabel(\"mean_profile\")\n",
    "plt.ylabel(\"std_profile\")\n",
    "plt.title(\"Bubble plot for mean,std and skewness\")\n",
    "\n",
    "\n",
    "plt.subplot(122)\n",
    "plt.scatter(st[\"mean_profile\"],st[\"std_profile\"],alpha=.5,\n",
    "            s=st[\"kurtosis_profile\"]*5,linewidths=1,color=\"g\",label=\"pulsar_star\")\n",
    "plt.scatter(nst[\"mean_profile\"],nst[\"std_profile\"],alpha=.5,\n",
    "            s=nst[\"kurtosis_profile\"]*5,linewidths=1,color=\"r\",label=\"pulsar_star\")\n",
    "plt.legend(loc=\"best\")\n",
    "plt.xlabel(\"mean_profile\")\n",
    "plt.ylabel(\"std_profile\")\n",
    "plt.title(\"Bubble plot for mean,std and kurtosis\")\n",
    "plt.show()"
   ]
  },
  {
   "cell_type": "markdown",
   "metadata": {
    "_cell_guid": "1f072151-f939-4674-aba2-382045deb5b3",
    "_uuid": "ba29474a90af503d5ff82c62eb6c9f89877f48dd"
   },
   "source": [
    "### Bubble plot between mean_dmsnr_curve,std_dmsnr_curve for skewness_dmsnr_curve and kurtosis_dmsnr_curve"
   ]
  },
  {
   "cell_type": "code",
   "execution_count": null,
   "metadata": {
    "_cell_guid": "56525d38-6675-486d-8296-1c8f8ca40fa5",
    "_kg_hide-input": true,
    "_uuid": "3da260eb645e6d278b1da242883a2dd9b3d2dd7e",
    "collapsed": true
   },
   "outputs": [],
   "source": [
    "plt.figure(figsize=(13,7))\n",
    "plt.subplot(121)\n",
    "plt.scatter(st[\"mean_dmsnr_curve\"],st[\"std_dmsnr_curve\"],\n",
    "            alpha=.5,s=st[\"skewness_dmsnr_curve\"],linewidths=1,color=\"g\",label=\"pulsar_star\")\n",
    "plt.scatter(nst[\"mean_dmsnr_curve\"],nst[\"std_dmsnr_curve\"],\n",
    "            alpha=.5,s=nst[\"skewness_dmsnr_curve\"],linewidths=1,color=\"r\",label=\"pulsar_star\")\n",
    "plt.legend(loc=\"best\")\n",
    "plt.xlabel(\"mean_dmsnr_curve\")\n",
    "plt.ylabel(\"std_dmsnr_curve\")\n",
    "plt.title(\"Bubble plot for mean,std and skewness of dmsnr_curve\")\n",
    "\n",
    "\n",
    "plt.subplot(122)\n",
    "plt.scatter(st[\"mean_dmsnr_curve\"],st[\"std_dmsnr_curve\"],\n",
    "            alpha=.5,s=st[\"kurtosis_dmsnr_curve\"],linewidths=1,color=\"g\",label=\"pulsar_star\")\n",
    "plt.scatter(nst[\"mean_dmsnr_curve\"],nst[\"std_dmsnr_curve\"],\n",
    "            alpha=.5,s=nst[\"kurtosis_dmsnr_curve\"],linewidths=1,color=\"r\",label=\"pulsar_star\")\n",
    "plt.legend(loc=\"best\")\n",
    "plt.xlabel(\"mean_dmsnr_curve\")\n",
    "plt.ylabel(\"std_dmsnr_curve\")\n",
    "plt.title(\"Bubble plot for mean,std and kurtosis of dmsnr_curve\")\n",
    "plt.show()"
   ]
  },
  {
   "cell_type": "markdown",
   "metadata": {
    "_cell_guid": "d0ee1f27-ab90-45fe-ac69-c40bf531f79d",
    "_uuid": "a96334b0c047a715e1af9a8b92a98881c8e0c606"
   },
   "source": [
    "# visualizing the distribution of a variables for target class"
   ]
  },
  {
   "cell_type": "code",
   "execution_count": null,
   "metadata": {
    "_cell_guid": "875b9fc1-a066-487a-8308-5d05d0dc9b80",
    "_kg_hide-input": true,
    "_uuid": "c05b1403640aad7f12404f996ca6b1989a9955fd",
    "collapsed": true
   },
   "outputs": [],
   "source": [
    "columns = [x for x in data.columns if x not in [\"target_class\"]]\n",
    "length  = len(columns)\n",
    "\n",
    "plt.figure(figsize=(13,25))\n",
    "\n",
    "for i,j in itertools.zip_longest(columns,range(length)):\n",
    "    plt.subplot(length/2,length/4,j+1)\n",
    "    sns.violinplot(x=data[\"target_class\"],y=data[i],\n",
    "                   palette=[\"Orangered\",\"lime\"],alpha=.5)\n",
    "    plt.title(i)"
   ]
  },
  {
   "cell_type": "markdown",
   "metadata": {
    "_cell_guid": "944b421b-3a9b-4c03-8f6e-a2ae91dce3a5",
    "_uuid": "dc1b538fcc19c9e85f6b276107c63b9b7c626180"
   },
   "source": [
    "# Parllel coordinates plot to compare features between variables"
   ]
  },
  {
   "cell_type": "code",
   "execution_count": null,
   "metadata": {
    "_cell_guid": "c36469de-abaa-4b38-bf98-fd30c603d308",
    "_kg_hide-input": true,
    "_uuid": "b2a43f2cc4a177cb5ea6d69335ff1c5f12e12119",
    "collapsed": true
   },
   "outputs": [],
   "source": [
    "from pandas.tools.plotting import parallel_coordinates\n",
    "plt.figure(figsize=(14,8))\n",
    "parallel_coordinates(data,\"target_class\",alpha=.5)\n",
    "plt.show()"
   ]
  },
  {
   "cell_type": "markdown",
   "metadata": {
    "_cell_guid": "498fe0c0-5cfe-4e0a-9d08-a4850c707bb9",
    "_uuid": "6dd94bf68f3cd781f84f54f892577ed6c3b5e6d3"
   },
   "source": [
    "# Proportion of target class in train & test data"
   ]
  },
  {
   "cell_type": "code",
   "execution_count": null,
   "metadata": {
    "_cell_guid": "ea1d20b7-3b7d-4514-9d36-88ce633bcda2",
    "_kg_hide-input": true,
    "_uuid": "a3e3cfd2d649ff5247103e0d8f62c41404ca3842",
    "collapsed": true
   },
   "outputs": [],
   "source": [
    "from sklearn.model_selection import train_test_split\n",
    "\n",
    "train , test = train_test_split(data,test_size = .3,random_state = 123)\n",
    "\n",
    "plt.figure(figsize=(12,6))\n",
    "plt.subplot(121)\n",
    "train[\"target_class\"].value_counts().plot.pie(labels = [\"not star\",\"star\"],\n",
    "                                              autopct = \"%1.0f%%\",\n",
    "                                              shadow = True,explode=[0,.1])\n",
    "plt.title(\"proportion of target class in train data\")\n",
    "plt.ylabel(\"\")\n",
    "plt.subplot(122)\n",
    "test[\"target_class\"].value_counts().plot.pie(labels = [\"not star\",\"star\"],\n",
    "                                             autopct = \"%1.0f%%\",\n",
    "                                             shadow = True,explode=[0,.1])\n",
    "plt.title(\"proportion of target class in train data\")\n",
    "plt.ylabel(\"\")\n",
    "plt.show()"
   ]
  },
  {
   "cell_type": "code",
   "execution_count": null,
   "metadata": {
    "_cell_guid": "0c5a8a44-c269-41b3-a41f-e3d64e825cd7",
    "_kg_hide-input": true,
    "_uuid": "060af70f4b94c7b57df1f65a03bf1e04f0a2787b",
    "collapsed": true
   },
   "outputs": [],
   "source": [
    "#Seperating Predictor and target variables\n",
    "train_X = train[[x for x in train.columns if x not in [\"target_class\"]]]\n",
    "train_Y = train[[\"target_class\"]]\n",
    "test_X  = test[[x for x in test.columns if x not in [\"target_class\"]]]\n",
    "test_Y  = test[[\"target_class\"]]"
   ]
  },
  {
   "cell_type": "markdown",
   "metadata": {
    "_uuid": "cc0305b5d4963078dbdb2555e91b03c0e9888ccf"
   },
   "source": [
    "# MODEL"
   ]
  },
  {
   "cell_type": "code",
   "execution_count": null,
   "metadata": {
    "_cell_guid": "a3d9b21f-b02e-4bb2-971f-d1689e3fe829",
    "_kg_hide-input": true,
    "_uuid": "2f975c8f40c9fafcae2c716019fa0f3e5aea907b",
    "collapsed": true
   },
   "outputs": [],
   "source": [
    "#MODEL FUNCTION\n",
    "\n",
    "from sklearn.metrics import classification_report,confusion_matrix,accuracy_score,roc_curve,auc\n",
    "\n",
    "def model(algorithm,dtrain_x,dtrain_y,dtest_x,dtest_y,of_type):\n",
    "    \n",
    "    print (\"*****************************************************************************************\")\n",
    "    print (\"MODEL - OUTPUT\")\n",
    "    print (\"*****************************************************************************************\")\n",
    "    algorithm.fit(dtrain_x,dtrain_y)\n",
    "    predictions = algorithm.predict(dtest_x)\n",
    "    \n",
    "    print (algorithm)\n",
    "    print (\"\\naccuracy_score :\",accuracy_score(dtest_y,predictions))\n",
    "    \n",
    "    print (\"\\nclassification report :\\n\",(classification_report(dtest_y,predictions)))\n",
    "        \n",
    "    plt.figure(figsize=(13,10))\n",
    "    plt.subplot(221)\n",
    "    sns.heatmap(confusion_matrix(dtest_y,predictions),annot=True,fmt = \"d\",linecolor=\"k\",linewidths=3)\n",
    "    plt.title(\"CONFUSION MATRIX\",fontsize=20)\n",
    "    \n",
    "    predicting_probabilites = algorithm.predict_proba(dtest_x)[:,1]\n",
    "    fpr,tpr,thresholds = roc_curve(dtest_y,predicting_probabilites)\n",
    "    plt.subplot(222)\n",
    "    plt.plot(fpr,tpr,label = (\"Area_under the curve :\",auc(fpr,tpr)),color = \"r\")\n",
    "    plt.plot([1,0],[1,0],linestyle = \"dashed\",color =\"k\")\n",
    "    plt.legend(loc = \"best\")\n",
    "    plt.title(\"ROC - CURVE & AREA UNDER CURVE\",fontsize=20)\n",
    "    \n",
    "    if  of_type == \"feat\":\n",
    "        \n",
    "        dataframe = pd.DataFrame(algorithm.feature_importances_,dtrain_x.columns).reset_index()\n",
    "        dataframe = dataframe.rename(columns={\"index\":\"features\",0:\"coefficients\"})\n",
    "        dataframe = dataframe.sort_values(by=\"coefficients\",ascending = False)\n",
    "        plt.subplot(223)\n",
    "        ax = sns.barplot(x = \"coefficients\" ,y =\"features\",data=dataframe,palette=\"husl\")\n",
    "        plt.title(\"FEATURE IMPORTANCES\",fontsize =20)\n",
    "        for i,j in enumerate(dataframe[\"coefficients\"]):\n",
    "            ax.text(.011,i,j,weight = \"bold\")\n",
    "    \n",
    "    elif of_type == \"coef\" :\n",
    "        \n",
    "        dataframe = pd.DataFrame(algorithm.coef_.ravel(),dtrain_x.columns).reset_index()\n",
    "        dataframe = dataframe.rename(columns={\"index\":\"features\",0:\"coefficients\"})\n",
    "        dataframe = dataframe.sort_values(by=\"coefficients\",ascending = False)\n",
    "        plt.subplot(223)\n",
    "        ax = sns.barplot(x = \"coefficients\" ,y =\"features\",data=dataframe,palette=\"husl\")\n",
    "        plt.title(\"FEATURE IMPORTANCES\",fontsize =20)\n",
    "        for i,j in enumerate(dataframe[\"coefficients\"]):\n",
    "            ax.text(.011,i,j,weight = \"bold\")\n",
    "            \n",
    "    elif of_type == \"none\" :\n",
    "        return (algorithm)\n",
    "    \n",
    "    "
   ]
  },
  {
   "cell_type": "markdown",
   "metadata": {
    "_cell_guid": "5dea3d3b-2fc2-4f48-b5dc-61afffb6089b",
    "_uuid": "454b6bab0b24a787b95af02af91a1abd9ff57d21"
   },
   "source": [
    "# RandomForestClassifier"
   ]
  },
  {
   "cell_type": "code",
   "execution_count": null,
   "metadata": {
    "_cell_guid": "0b791ce1-9dc7-40d8-b8f8-a9c85a12c6fe",
    "_kg_hide-input": true,
    "_uuid": "17ac985fe240c12e96703f55e21bcf6d271cc460",
    "collapsed": true
   },
   "outputs": [],
   "source": [
    "from sklearn.ensemble import RandomForestClassifier\n",
    "rf =RandomForestClassifier()\n",
    "model(rf,train_X,train_Y,test_X,test_Y,\"feat\")"
   ]
  },
  {
   "cell_type": "markdown",
   "metadata": {
    "_cell_guid": "eeeea2bb-8df5-48f1-b93d-c0d175e53ae0",
    "_uuid": "3bac46bd3c015d5dadb69c7b1aab7c16b854e55b"
   },
   "source": [
    "# LogisticRegression"
   ]
  },
  {
   "cell_type": "code",
   "execution_count": null,
   "metadata": {
    "_cell_guid": "62d02832-d408-4031-9108-97d6c97eabce",
    "_kg_hide-input": true,
    "_uuid": "e6b3c80b87ae20fa9e951d347c3fb6204bd7c71a",
    "collapsed": true
   },
   "outputs": [],
   "source": [
    "from sklearn.linear_model import LogisticRegression\n",
    "log = LogisticRegression()\n",
    "model(log,train_X,train_Y,test_X,test_Y,\"coef\")"
   ]
  },
  {
   "cell_type": "markdown",
   "metadata": {
    "_cell_guid": "580bd190-2f74-4d28-b643-9ed9744b58eb",
    "_uuid": "16a118c5ac1285aaefc0fea0226f5a366dd777ca"
   },
   "source": [
    "# DecisionTreeClassifier"
   ]
  },
  {
   "cell_type": "code",
   "execution_count": null,
   "metadata": {
    "_cell_guid": "4b5dc677-4f24-4db8-a18b-06978f7dc9df",
    "_kg_hide-input": true,
    "_uuid": "f08a89ae6d312d542201ceb492d7e6812a583660",
    "collapsed": true
   },
   "outputs": [],
   "source": [
    "from sklearn.tree import DecisionTreeClassifier\n",
    "dt = DecisionTreeClassifier()\n",
    "model(dt,train_X,train_Y,test_X,test_Y,\"feat\")"
   ]
  },
  {
   "cell_type": "markdown",
   "metadata": {
    "_uuid": "a69ababd20876c4c4a4eddb8def9b2a8d65ccf62"
   },
   "source": [
    "# Extra Tree Classifier"
   ]
  },
  {
   "cell_type": "code",
   "execution_count": null,
   "metadata": {
    "_kg_hide-input": true,
    "_uuid": "64876b5ef288fba3e41e98e427cfae670d586c34",
    "collapsed": true
   },
   "outputs": [],
   "source": [
    "from sklearn.tree import ExtraTreeClassifier\n",
    "etc = ExtraTreeClassifier()\n",
    "model(etc,train_X,train_Y,test_X,test_Y,\"feat\")"
   ]
  },
  {
   "cell_type": "markdown",
   "metadata": {
    "_cell_guid": "1f73a7f5-0a27-4c50-a97b-0273b45513cb",
    "_uuid": "30af15e426d686e8206c7452c88b19eda0f29a05"
   },
   "source": [
    "# GradientBoostingClassifier"
   ]
  },
  {
   "cell_type": "code",
   "execution_count": null,
   "metadata": {
    "_cell_guid": "a72a68df-ccdd-4d47-86f7-fbdf3fdbc4f8",
    "_kg_hide-input": true,
    "_uuid": "00fb15396d1b6f79e0848020556bf3f15a099d69",
    "collapsed": true
   },
   "outputs": [],
   "source": [
    "from sklearn.ensemble import GradientBoostingClassifier\n",
    "gbc = GradientBoostingClassifier()\n",
    "model(gbc,train_X,train_Y,test_X,test_Y,\"feat\")"
   ]
  },
  {
   "cell_type": "markdown",
   "metadata": {
    "_cell_guid": "9cee9df5-d33f-4915-a1d7-658d623cf7ca",
    "_uuid": "d5c0b98ce1e42e1a810beb4e8a7ccc912e3f9545"
   },
   "source": [
    "# Gaussian Naive Bayes"
   ]
  },
  {
   "cell_type": "code",
   "execution_count": null,
   "metadata": {
    "_cell_guid": "c5046e09-2b40-475f-9555-79cf580653c4",
    "_kg_hide-input": true,
    "_uuid": "97ff04e31ec6e053011c8c3a1c1a2f9b254a34f8",
    "collapsed": true
   },
   "outputs": [],
   "source": [
    "from sklearn.naive_bayes import GaussianNB\n",
    "nb = GaussianNB()\n",
    "model(nb,train_X,train_Y,test_X,test_Y,\"none\")"
   ]
  },
  {
   "cell_type": "markdown",
   "metadata": {
    "_cell_guid": "80bd9d2d-caa5-401f-8cab-5beb3b6c07b4",
    "_uuid": "b61004535cde8500ab7f39c5499eb2cafe8e7837"
   },
   "source": [
    "# K- Nearest Neighbour Classifier"
   ]
  },
  {
   "cell_type": "code",
   "execution_count": null,
   "metadata": {
    "_cell_guid": "73a74f86-3ade-4c2a-8ad7-ccbb82733eee",
    "_kg_hide-input": true,
    "_uuid": "f5f87128d8cc8c6a033cd616cd96b1b450198bf6",
    "collapsed": true
   },
   "outputs": [],
   "source": [
    "from sklearn.neighbors import KNeighborsClassifier\n",
    "knn = KNeighborsClassifier()\n",
    "model(knn,train_X,train_Y,test_X,test_Y,\"none\")"
   ]
  },
  {
   "cell_type": "markdown",
   "metadata": {
    "_uuid": "82e0f772063e5cd9190f23bbe3e27672c61d4e5a"
   },
   "source": [
    "# Ada Boost Classifier"
   ]
  },
  {
   "cell_type": "code",
   "execution_count": null,
   "metadata": {
    "_cell_guid": "b7c78be2-9b64-46a8-a550-8d158ef84b11",
    "_kg_hide-input": true,
    "_uuid": "a6c37bd5c22b679d83a46ae8d09ab931c539c512",
    "collapsed": true
   },
   "outputs": [],
   "source": [
    "from sklearn.ensemble import AdaBoostClassifier\n",
    "ada = AdaBoostClassifier()\n",
    "model(ada,train_X,train_Y,test_X,test_Y,\"feat\")"
   ]
  },
  {
   "cell_type": "code",
   "execution_count": null,
   "metadata": {
    "_uuid": "a955dddb4ebea1219ddf4613be980cc17a8d9c67",
    "collapsed": true
   },
   "outputs": [],
   "source": []
  }
 ],
 "metadata": {
  "kernelspec": {
   "display_name": "Python 2",
   "language": "python",
   "name": "python2"
  },
  "language_info": {
   "codemirror_mode": {
    "name": "ipython",
    "version": 2
   },
   "file_extension": ".py",
   "mimetype": "text/x-python",
   "name": "python",
   "nbconvert_exporter": "python",
   "pygments_lexer": "ipython2",
   "version": "2.7.16"
  }
 },
 "nbformat": 4,
 "nbformat_minor": 1
}
